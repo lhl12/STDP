{
 "cells": [
  {
   "cell_type": "code",
   "execution_count": 1,
   "id": "90d817cb-6771-4e2f-8ad6-910b75f4dbd7",
   "metadata": {
    "tags": []
   },
   "outputs": [
    {
     "data": {
      "application/vnd.jupyter.widget-view+json": {
       "model_id": "a8d84eb9f3ce42d9ac9872527359b87a",
       "version_major": 2,
       "version_minor": 0
      },
      "text/plain": [
       "VBox(children=(FloatProgress(value=0.0, max=1.0), Output()))"
      ]
     },
     "metadata": {},
     "output_type": "display_data"
    },
    {
     "data": {
      "application/vnd.jupyter.widget-view+json": {
       "model_id": "c60494cde6934f6ca78820fc7d7a535d",
       "version_major": 2,
       "version_minor": 0
      },
      "text/plain": [
       "HBox(children=(Button(description='Neuron A', style=ButtonStyle()), Button(description='Neuron B', style=Butto…"
      ]
     },
     "metadata": {},
     "output_type": "display_data"
    }
   ],
   "source": [
    "%matplotlib inline\n",
    "\n",
    "# To prevent automatic figure display when execution of the cell ends\n",
    "%config InlineBackend.close_figures=False \n",
    "\n",
    "import matplotlib.pyplot as plt\n",
    "import numpy as np\n",
    "\n",
    "import ipywidgets as widgets\n",
    "from IPython.display import display,clear_output\n",
    "import threading\n",
    "\n",
    "import time\n",
    "\n",
    "plt.ioff()\n",
    "ax = plt.gca()\n",
    "ax.axis([-3.5, 3.5, -50, 100])\n",
    "ax.axhline(y=0, color=\"black\", linestyle=\":\")\n",
    "ax.axvline(color=\"black\", linestyle=\":\")\n",
    "\n",
    "out = widgets.Output()\n",
    "progress = widgets.FloatProgress(value=0.0, min=0.0, max=1.0)\n",
    "vbox = widgets.VBox(children=(progress, out))\n",
    "display(vbox)\n",
    "neuronA = widgets.Button(description = \"Neuron A\")\n",
    "neuronB = widgets.Button(description = \"Neuron B\")\n",
    "hbox = widgets.HBox(children = (neuronA, neuronB))\n",
    "display(hbox)\n",
    "\n",
    "t0 = time.time()\n",
    "tA = -1\n",
    "tB = -1\n",
    "\n",
    "timerOn = False\n",
    "Apress = False\n",
    "Bpress = False\n",
    "\n",
    "# display(ax.figure)\n",
    "\n",
    "with out:\n",
    "    display(ax.figure)\n",
    "\n",
    "def clickA(b):\n",
    "    global tA, Apress\n",
    "    tA = time.time() - t0\n",
    "    Apress = True\n",
    "    if not Bpress:\n",
    "        timeThread.start()\n",
    "    updatePlot()\n",
    "    neuronA.disabled = True\n",
    "    \n",
    "def clickB(b):\n",
    "    global tB, Bpress\n",
    "    tB = time.time() - t0\n",
    "    Bpress = True\n",
    "    if not Apress:\n",
    "        timeThread.start()\n",
    "    updatePlot()\n",
    "    neuronB.disabled = True\n",
    "    \n",
    "def work(progress):\n",
    "    global timeThread, Apress, Bpress\n",
    "    neuronA.disabled = False\n",
    "    neuronB.disabled = False\n",
    "    neuronA.on_click(clickA)\n",
    "    total = 31\n",
    "    for i in range(total):\n",
    "        time.sleep(0.1)\n",
    "        progress.value = float(i+1)/total\n",
    "        if Apress and Bpress:\n",
    "            break\n",
    "    time.sleep(1)\n",
    "    progress.value = 0\n",
    "    Apress = False\n",
    "    Bpress = False\n",
    "    neuronA.disabled = False\n",
    "    neuronB.disabled = False\n",
    "    timeThread = threading.Thread(target=work, args=(progress,))\n",
    "    \n",
    "def updatePlot():\n",
    "    if Apress and Bpress:\n",
    "        tD = tB - tA\n",
    "        if tD < 0:\n",
    "            y = 10/tD\n",
    "        else:\n",
    "            y = 20/tD\n",
    "        plt.scatter(tD, y, c = '#1f77b4')\n",
    "        with out:\n",
    "            clear_output(wait=True)\n",
    "            display(ax.figure)\n",
    "    \n",
    "# startButton.on_click(startSim)\n",
    "timeThread = threading.Thread(target=work, args=(progress,))\n",
    "neuronA.on_click(clickA)\n",
    "neuronB.on_click(clickB)"
   ]
  },
  {
   "cell_type": "code",
   "execution_count": null,
   "id": "4519f7ac-2911-467e-a877-8e98de0778b2",
   "metadata": {
    "tags": []
   },
   "outputs": [],
   "source": []
  },
  {
   "cell_type": "code",
   "execution_count": null,
   "id": "d91eb50e-ef28-4703-8821-af9f5bd267cb",
   "metadata": {},
   "outputs": [],
   "source": []
  }
 ],
 "metadata": {
  "kernelspec": {
   "display_name": "Python 3 (ipykernel)",
   "language": "python",
   "name": "python3"
  },
  "language_info": {
   "codemirror_mode": {
    "name": "ipython",
    "version": 3
   },
   "file_extension": ".py",
   "mimetype": "text/x-python",
   "name": "python",
   "nbconvert_exporter": "python",
   "pygments_lexer": "ipython3",
   "version": "3.9.12"
  }
 },
 "nbformat": 4,
 "nbformat_minor": 5
}
